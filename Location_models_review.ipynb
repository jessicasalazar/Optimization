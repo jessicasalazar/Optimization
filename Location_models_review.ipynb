{
  "cells": [
    {
      "cell_type": "markdown",
      "metadata": {
        "id": "view-in-github",
        "colab_type": "text"
      },
      "source": [
        "<a href=\"https://colab.research.google.com/github/jessicasalazar/Optimization/blob/main/Location_models_review.ipynb\" target=\"_parent\"><img src=\"https://colab.research.google.com/assets/colab-badge.svg\" alt=\"Open In Colab\"/></a>"
      ]
    },
    {
      "cell_type": "markdown",
      "source": [
        "<div align=\"center\">\n",
        "  <img src=\"https://www.eafit.edu.co/institucional/sostenibilidad-ambiental/PublishingImages/ecologia-urbana/logos/eafit-logo.png\" alt=\"Logo EAFIT\" width=\"150\">\n",
        "</div>"
      ],
      "metadata": {
        "id": "0qwQdFVpOQTd"
      }
    },
    {
      "cell_type": "markdown",
      "source": [
        "# Comparative analysis between the Covering Location Problem and the Maximal Covering Location Problem\n",
        "\n",
        "#### Nombre: Jessica Salazar Vásquez\n",
        "#### Profesor: Juan Carlos Duque"
      ],
      "metadata": {
        "id": "NEaKjztDNEZh"
      }
    },
    {
      "cell_type": "code",
      "execution_count": 1,
      "metadata": {
        "colab": {
          "base_uri": "https://localhost:8080/"
        },
        "id": "ByqqyvG4Hyyh",
        "outputId": "c04bbc55-2f89-4947-8c4d-b9912bc9dd37"
      },
      "outputs": [
        {
          "output_type": "stream",
          "name": "stdout",
          "text": [
            "Requirement already satisfied: pyomo in /usr/local/lib/python3.11/dist-packages (6.8.2)\n",
            "Requirement already satisfied: ply in /usr/local/lib/python3.11/dist-packages (from pyomo) (3.11)\n",
            "Reading package lists... Done\n",
            "Building dependency tree... Done\n",
            "Reading state information... Done\n",
            "The following additional packages will be installed:\n",
            "  libamd2 libcolamd2 libglpk40 libsuitesparseconfig5\n",
            "Suggested packages:\n",
            "  libiodbc2-dev\n",
            "The following NEW packages will be installed:\n",
            "  glpk-utils libamd2 libcolamd2 libglpk40 libsuitesparseconfig5\n",
            "0 upgraded, 5 newly installed, 0 to remove and 29 not upgraded.\n",
            "Need to get 625 kB of archives.\n",
            "After this operation, 2,158 kB of additional disk space will be used.\n",
            "Get:1 http://archive.ubuntu.com/ubuntu jammy/main amd64 libsuitesparseconfig5 amd64 1:5.10.1+dfsg-4build1 [10.4 kB]\n",
            "Get:2 http://archive.ubuntu.com/ubuntu jammy/universe amd64 libamd2 amd64 1:5.10.1+dfsg-4build1 [21.6 kB]\n",
            "Get:3 http://archive.ubuntu.com/ubuntu jammy/main amd64 libcolamd2 amd64 1:5.10.1+dfsg-4build1 [18.0 kB]\n",
            "Get:4 http://archive.ubuntu.com/ubuntu jammy/universe amd64 libglpk40 amd64 5.0-1 [361 kB]\n",
            "Get:5 http://archive.ubuntu.com/ubuntu jammy/universe amd64 glpk-utils amd64 5.0-1 [214 kB]\n",
            "Fetched 625 kB in 0s (2,757 kB/s)\n",
            "Selecting previously unselected package libsuitesparseconfig5:amd64.\n",
            "(Reading database ... 126210 files and directories currently installed.)\n",
            "Preparing to unpack .../libsuitesparseconfig5_1%3a5.10.1+dfsg-4build1_amd64.deb ...\n",
            "Unpacking libsuitesparseconfig5:amd64 (1:5.10.1+dfsg-4build1) ...\n",
            "Selecting previously unselected package libamd2:amd64.\n",
            "Preparing to unpack .../libamd2_1%3a5.10.1+dfsg-4build1_amd64.deb ...\n",
            "Unpacking libamd2:amd64 (1:5.10.1+dfsg-4build1) ...\n",
            "Selecting previously unselected package libcolamd2:amd64.\n",
            "Preparing to unpack .../libcolamd2_1%3a5.10.1+dfsg-4build1_amd64.deb ...\n",
            "Unpacking libcolamd2:amd64 (1:5.10.1+dfsg-4build1) ...\n",
            "Selecting previously unselected package libglpk40:amd64.\n",
            "Preparing to unpack .../libglpk40_5.0-1_amd64.deb ...\n",
            "Unpacking libglpk40:amd64 (5.0-1) ...\n",
            "Selecting previously unselected package glpk-utils.\n",
            "Preparing to unpack .../glpk-utils_5.0-1_amd64.deb ...\n",
            "Unpacking glpk-utils (5.0-1) ...\n",
            "Setting up libsuitesparseconfig5:amd64 (1:5.10.1+dfsg-4build1) ...\n",
            "Setting up libamd2:amd64 (1:5.10.1+dfsg-4build1) ...\n",
            "Setting up libcolamd2:amd64 (1:5.10.1+dfsg-4build1) ...\n",
            "Setting up libglpk40:amd64 (5.0-1) ...\n",
            "Setting up glpk-utils (5.0-1) ...\n",
            "Processing triggers for man-db (2.10.2-1) ...\n",
            "Processing triggers for libc-bin (2.35-0ubuntu3.8) ...\n",
            "/sbin/ldconfig.real: /usr/local/lib/libur_adapter_opencl.so.0 is not a symbolic link\n",
            "\n",
            "/sbin/ldconfig.real: /usr/local/lib/libtbbbind_2_5.so.3 is not a symbolic link\n",
            "\n",
            "/sbin/ldconfig.real: /usr/local/lib/libtbbbind.so.3 is not a symbolic link\n",
            "\n",
            "/sbin/ldconfig.real: /usr/local/lib/libur_loader.so.0 is not a symbolic link\n",
            "\n",
            "/sbin/ldconfig.real: /usr/local/lib/libtbb.so.12 is not a symbolic link\n",
            "\n",
            "/sbin/ldconfig.real: /usr/local/lib/libtcm.so.1 is not a symbolic link\n",
            "\n",
            "/sbin/ldconfig.real: /usr/local/lib/libtbbmalloc_proxy.so.2 is not a symbolic link\n",
            "\n",
            "/sbin/ldconfig.real: /usr/local/lib/libtcm_debug.so.1 is not a symbolic link\n",
            "\n",
            "/sbin/ldconfig.real: /usr/local/lib/libhwloc.so.15 is not a symbolic link\n",
            "\n",
            "/sbin/ldconfig.real: /usr/local/lib/libumf.so.0 is not a symbolic link\n",
            "\n",
            "/sbin/ldconfig.real: /usr/local/lib/libtbbmalloc.so.2 is not a symbolic link\n",
            "\n",
            "/sbin/ldconfig.real: /usr/local/lib/libtbbbind_2_0.so.3 is not a symbolic link\n",
            "\n",
            "/sbin/ldconfig.real: /usr/local/lib/libur_adapter_level_zero.so.0 is not a symbolic link\n",
            "\n"
          ]
        }
      ],
      "source": [
        "# To install libraries\n",
        "!pip install pyomo\n",
        "!apt install glpk-utils"
      ]
    },
    {
      "cell_type": "code",
      "source": [
        "\n",
        "# To import libraries\n",
        "from pyomo.environ import *\n",
        "from pyomo.environ import (\n",
        "    ConcreteModel, Set, Param, Var, Binary, Constraint, Objective, maximize,\n",
        "    NonNegativeReals, NonNegativeIntegers, SolverFactory\n",
        ")"
      ],
      "metadata": {
        "id": "9hOAyFS5Pypc"
      },
      "execution_count": 6,
      "outputs": []
    },
    {
      "cell_type": "markdown",
      "source": [
        "# PAPER: THE LOCATION OF EMERGENCY SERVICE FACILITIES (ReVelle et al., 1971)\n",
        "---\n",
        "### The Covering Location Problem\n",
        "---"
      ],
      "metadata": {
        "id": "qZ8_BHKJePOu"
      }
    },
    {
      "cell_type": "code",
      "execution_count": 4,
      "metadata": {
        "id": "xWPo8mQtP827",
        "colab": {
          "base_uri": "https://localhost:8080/"
        },
        "outputId": "377b8472-a836-420f-afd9-0c49d25c8cb2"
      },
      "outputs": [
        {
          "output_type": "stream",
          "name": "stdout",
          "text": [
            "State of the solution: ok\n",
            "Termination condition of the solver: optimal\n",
            "Optimal value (number of facilities): 2.0\n",
            "x[0] = 1.0\n",
            "x[1] = 0.0\n",
            "x[2] = 1.0\n",
            "x[3] = 0.0\n",
            "x[4] = 0.0\n",
            "Model EmergencyServiceFacilities\n",
            "\n",
            "  Variables:\n",
            "    x : Size=5, Index={0, 1, 2, 3, 4}\n",
            "        Key : Lower : Value : Upper : Fixed : Stale : Domain\n",
            "          0 :     0 :   1.0 :     1 : False : False : Binary\n",
            "          1 :     0 :   0.0 :     1 : False : False : Binary\n",
            "          2 :     0 :   1.0 :     1 : False : False : Binary\n",
            "          3 :     0 :   0.0 :     1 : False : False : Binary\n",
            "          4 :     0 :   0.0 :     1 : False : False : Binary\n",
            "\n",
            "  Objectives:\n",
            "    obj : Size=1, Index=None, Active=True\n",
            "        Key  : Active : Value\n",
            "        None :   True :   2.0\n",
            "\n",
            "  Constraints:\n",
            "    cover : Size=5\n",
            "        Key : Lower : Body : Upper\n",
            "          0 :   1.0 :  1.0 :  None\n",
            "          1 :   1.0 :  2.0 :  None\n",
            "          2 :   1.0 :  1.0 :  None\n",
            "          3 :   1.0 :  1.0 :  None\n",
            "          4 :   1.0 :  1.0 :  None\n"
          ]
        }
      ],
      "source": [
        "# ----------------------\n",
        "# Set of nodes (demands)\n",
        "# ----------------------\n",
        "demands = [0, 1, 2, 3, 4]\n",
        "\n",
        "# -----------------------------------------------------------------------\n",
        "# Set of possible allocation points\n",
        "# (This example has the same set of nodes and set of possible allocations)\n",
        "# -----------------------------------------------------------------------\n",
        "facilities = [0, 1, 2, 3, 4]\n",
        "\n",
        "# -------------------------------------------\n",
        "# Dictionary: for each of demand i,\n",
        "# N[i] = list of nodes j to covering i\n",
        "# -------------------------------------------\n",
        "N = {\n",
        "    0: [0, 1, 4],\n",
        "    1: [0, 1, 2],\n",
        "    2: [1, 2, 3],\n",
        "    3: [2, 3, 4],\n",
        "    4: [0, 3, 4]\n",
        "}\n",
        "\n",
        "# To create the model\n",
        "model = ConcreteModel(name=\"EmergencyServiceFacilities\") # Class used to define concrete optimization model in Pyomo\n",
        "\n",
        "# To define binary variables x_j\n",
        "model.x = Var(facilities, domain=Binary)\n",
        "\n",
        "# Objective function: minimize the total number of facilities\n",
        "def obj_rule(m):\n",
        "    return sum(m.x[j] for j in facilities)\n",
        "\n",
        "model.obj = Objective(rule=obj_rule, sense=minimize)\n",
        "\n",
        "# Covering resticted:\n",
        "# Each node i must be covered by at least one facility in N[i]\n",
        "def cover_rule(m, i):\n",
        "    return sum(m.x[j] for j in N[i]) >= 1\n",
        "\n",
        "model.cover = Constraint(demands, rule=cover_rule)\n",
        "\n",
        "# The solver is GLPK is the default solver\n",
        "# GNU Linear Programming Kit, used to solve Linear Programming (LP) and Integer Programming (IP)\n",
        "solver = SolverFactory('glpk')\n",
        "results = solver.solve(model)\n",
        "\n",
        "# Show the state of the solution\n",
        "print(\"State of the solution:\", results.solver.status)\n",
        "print(\"Termination condition of the solver:\", results.solver.termination_condition)\n",
        "\n",
        "# Show optimal value of the objective function\n",
        "print(\"Optimal value (number of facilities):\", model.obj())\n",
        "\n",
        "# Show which facilities open\n",
        "for j in facilities:\n",
        "    print(f\"x[{j}] =\", model.x[j].value)\n",
        "\n",
        "# Complete report:\n",
        "model.display()"
      ]
    },
    {
      "cell_type": "markdown",
      "source": [
        "# Modification 1: Set selection penalty by JessicaSalazar\n",
        "\n",
        "A subset with a high penalty value will be more costly to open, and the solver will try not to select it unless it is necessary to cover the demand.\n",
        "\n",
        "This can mean that some subsets might be saturated and therefore difficult to service, so we penalize them in order not to prioritize them in the solution unless necessary."
      ],
      "metadata": {
        "id": "N0O99QUNaBKq"
      }
    },
    {
      "cell_type": "code",
      "source": [
        "# --------------\n",
        "# Sets\n",
        "# --------------\n",
        "demands = [0, 1, 2, 3, 4]\n",
        "facilities = [0, 1, 2, 3, 4]\n",
        "\n",
        "# -------------------------------------------\n",
        "# Dictionary: for each of demand i,\n",
        "# N[i] = list of nodes j to covering i\n",
        "# -------------------------------------------\n",
        "N = {\n",
        "    0: [0, 1, 4],\n",
        "    1: [0, 1, 2],\n",
        "    2: [1, 2, 3],\n",
        "    3: [2, 3, 4],\n",
        "    4: [0, 3, 4]\n",
        "}\n",
        "\n",
        "# ----------------------------------------------\n",
        "# I define a cost of c[j] for each node j\n",
        "# (I can modify it to review the changes)\n",
        "# ----------------------------------------------\n",
        "penalty = {\n",
        "    0: 1,   # Open the facility 0, it cost 1\n",
        "    1: 1,   # Open the facility 1, it cost 1\n",
        "    2: 4,   # Open the facility 2, it cost 1\n",
        "    3: 1,   # Open the facility 3, it cost 5 (selection penalty)\n",
        "    4: 2    # Open the facility 4, it cost 2\n",
        "}\n",
        "\n",
        "model = ConcreteModel(name=\"EmergencyServiceFacilities\")\n",
        "\n",
        "# To define binary variables x_j\n",
        "model.x = Var(facilities, domain=Binary)\n",
        "\n",
        "# Objective function: minimize the total costs of facilities\n",
        "def obj_rule(m):\n",
        "    return sum(penalty[j] * m.x[j] for j in facilities)\n",
        "\n",
        "model.obj = Objective(rule=obj_rule, sense=minimize)\n",
        "\n",
        "# Covering resticted:\n",
        "# Each node i must be covered by at least one facility in N[i]\n",
        "def cover_rule(m, i):\n",
        "    return sum(m.x[j] for j in N[i]) >= 1\n",
        "\n",
        "model.cover = Constraint(demands, rule=cover_rule)\n",
        "\n",
        "# Solver\n",
        "solver = SolverFactory('glpk')\n",
        "results = solver.solve(model, tee=False)\n",
        "\n",
        "print(\"State of the solution:\", results.solver.status)\n",
        "print(\"Termination condition of the solver:\", results.solver.termination_condition)\n",
        "print(\"Optimal value (number of facilities):\", model.obj())\n",
        "\n",
        "for j in facilities:\n",
        "    print(f\"x[{j}] =\", model.x[j].value)"
      ],
      "metadata": {
        "colab": {
          "base_uri": "https://localhost:8080/"
        },
        "id": "8B_jM0VKbhqA",
        "outputId": "fe8b1d7d-fc91-4b8c-a9ce-98272ade8e15"
      },
      "execution_count": 5,
      "outputs": [
        {
          "output_type": "stream",
          "name": "stdout",
          "text": [
            "State of the solution: ok\n",
            "Termination condition of the solver: optimal\n",
            "Optimal value (number of facilities): 2.0\n",
            "x[0] = 1.0\n",
            "x[1] = 0.0\n",
            "x[2] = 0.0\n",
            "x[3] = 1.0\n",
            "x[4] = 0.0\n"
          ]
        }
      ]
    },
    {
      "cell_type": "markdown",
      "source": [
        "# PAPER: THE MAXIMAL COVERING LOCATION PROBLEM (Church et al. 1974)\n",
        "---\n",
        "### The Maximal Covering Location Problem\n",
        "---"
      ],
      "metadata": {
        "id": "ll-nxtdKewyk"
      }
    },
    {
      "cell_type": "code",
      "source": [
        "# ----------------------\n",
        "# Set of demand nodes\n",
        "# ----------------------\n",
        "I_data = [1, 2, 3, 4, 5]\n",
        "\n",
        "# ----------------------\n",
        "# Set of facility sites\n",
        "# ----------------------\n",
        "J_data = [1, 2, 3]\n",
        "\n",
        "# -------------------------------------------\n",
        "# Dictionary: for each of demand i,\n",
        "# N[i] = list of nodes j to covering i\n",
        "# -------------------------------------------\n",
        "N_i_data = {\n",
        "    1: [1, 2],\n",
        "    2: [1],\n",
        "    3: [2, 3],\n",
        "    4: [2],\n",
        "    5: [1, 3]\n",
        "}\n",
        "\n",
        "# -------------------------------------------\n",
        "# Dictionary: for each of demand importance.\n",
        "# -------------------------------------------\n",
        "w_data = {\n",
        "    1: 100.0,\n",
        "    2: 50.0,\n",
        "    3: 80.0,\n",
        "    4: 60.0,\n",
        "    5: 120.0\n",
        "}\n",
        "# -----------------------------\n",
        "# Minimun number of facilities\n",
        "# -----------------------------\n",
        "p_value = 1\n",
        "\n",
        "# -----------------------------------------------------\n",
        "# Create model\n",
        "# The model uded is Maximal Covering Location Problem\n",
        "# -----------------------------------------------------\n",
        "model = ConcreteModel(name=\"MCLP\")\n",
        "\n",
        "# Sets\n",
        "model.I = Set(initialize=I_data)\n",
        "model.J = Set(initialize=J_data)\n",
        "\n",
        "# Parameters\n",
        "model.w = Param(model.I, initialize=w_data, within=NonNegativeReals)\n",
        "model.p = Param(initialize=p_value, within=NonNegativeIntegers)\n",
        "\n",
        "# Variables\n",
        "model.x = Var(model.J, within=Binary)\n",
        "model.y = Var(model.I, within=Binary)\n",
        "\n",
        "# Covering restricted:\n",
        "# Each node i must be covered by at least one facility in N[i]\n",
        "def coverage_rule(model, i):\n",
        "    return model.y[i] + sum(model.x[j] for j in N_i_data[i]) >= 1\n",
        "model.CoverageConstraint = Constraint(model.I, rule=coverage_rule)\n",
        "\n",
        "# Restricted of the number of facilities\n",
        "def facility_count_rule(model):\n",
        "    return sum(model.x[j] for j in model.J) == model.p\n",
        "model.FacilityConstraint = Constraint(rule=facility_count_rule)\n",
        "\n",
        "# Objective function: minimize the total weighted coverage\n",
        "def obj_rule(model):\n",
        "    return sum(model.w[i] * model.y[i] for i in model.I)\n",
        "model.Obj = Objective(rule=obj_rule, sense=minimize)\n",
        "\n",
        "# ---------------\n",
        "# Model solution\n",
        "# ---------------\n",
        "solver = SolverFactory('glpk')\n",
        "solver.solve(model)\n",
        "\n",
        "print(\"\\nVariables x_j:\")\n",
        "for j in model.J:\n",
        "    print(f\"x[{j}] = {model.x[j].value}\")\n",
        "\n",
        "print(\"\\nVariables y_i:\")\n",
        "for i in model.I:\n",
        "    print(f\"y[{i}] = {model.y[i].value}\")\n",
        "\n",
        "print(\"\\nCobertura total =\", model.Obj())"
      ],
      "metadata": {
        "colab": {
          "base_uri": "https://localhost:8080/"
        },
        "id": "0Rj8A2ONiBn_",
        "outputId": "4956cf37-8e9d-447e-e3ce-087190485f43"
      },
      "execution_count": null,
      "outputs": [
        {
          "output_type": "stream",
          "name": "stdout",
          "text": [
            "\n",
            "Variables x_j:\n",
            "x[1] = 1.0\n",
            "x[2] = 0.0\n",
            "x[3] = 0.0\n",
            "\n",
            "Variables y_i:\n",
            "y[1] = 0.0\n",
            "y[2] = 0.0\n",
            "y[3] = 1.0\n",
            "y[4] = 1.0\n",
            "y[5] = 0.0\n",
            "\n",
            "Cobertura total = 140.0\n"
          ]
        }
      ]
    },
    {
      "cell_type": "markdown",
      "source": [
        "# Modification 2: Set selection penalty by JessicaSalazar\n",
        "\n",
        "A subset with a high penalty value will be more costly to open, and the solver will try not to select it unless it is necessary to cover the demand.\n",
        "\n",
        "This can mean that some subsets might be saturated and therefore difficult to service, so we penalize them in order not to prioritize them in the solution unless necessary."
      ],
      "metadata": {
        "id": "A-FFIZFk2rhU"
      }
    },
    {
      "cell_type": "code",
      "source": [
        "# ----------------------\n",
        "# Set of data\n",
        "# ----------------------\n",
        "I_data = [1, 2, 3, 4, 5]\n",
        "J_data = [1, 2, 3]\n",
        "\n",
        "# -------------------------------------------\n",
        "# Dictionaries for each of demand\n",
        "# -------------------------------------------\n",
        "N_i_data = {\n",
        "    1: [1, 2],\n",
        "    2: [1],\n",
        "    3: [2, 3],\n",
        "    4: [2],\n",
        "    5: [1, 3]\n",
        "}\n",
        "w_data = {\n",
        "    1: 100.0,\n",
        "    2: 50.0,\n",
        "    3: 80.0,\n",
        "    4: 60.0,\n",
        "    5: 120.0\n",
        "}\n",
        "\n",
        "# -----------------------------\n",
        "# Minimun number of facilities\n",
        "# -----------------------------\n",
        "p_value = 1\n",
        "\n",
        "# ----------------------------------------------\n",
        "# I define a cost of c[j] for each node j\n",
        "# (I can modify it to review the changes)\n",
        "# ----------------------------------------------\n",
        "penalty = {\n",
        "    1: 1,   # Open the facility 0, it cost 1\n",
        "    2: 1,   # Open the facility 1, it cost 1\n",
        "    3: 4   # Open the facility 2, it cost 4 (selection panlty)\n",
        "}\n",
        "\n",
        "# -----------------------------------------------------\n",
        "# Create model\n",
        "# The model uded is Maximal Covering Location Problem\n",
        "# -----------------------------------------------------\n",
        "model = ConcreteModel(name=\"MCLP\")\n",
        "\n",
        "# Sets\n",
        "model.I = Set(initialize=I_data)\n",
        "model.J = Set(initialize=J_data)\n",
        "\n",
        "# Parameters\n",
        "model.w = Param(model.I, initialize=w_data, within=NonNegativeReals)\n",
        "model.p = Param(initialize=p_value, within=NonNegativeIntegers)\n",
        "\n",
        "# Variables\n",
        "model.x = Var(model.J, within=Binary)\n",
        "model.y = Var(model.I, within=Binary)\n",
        "\n",
        "# Covering restricted:\n",
        "# Each node i must be covered by at least one facility in N[i]\n",
        "def coverage_rule(model, i):\n",
        "    return model.y[i] + sum(model.x[j] for j in N_i_data[i]) >= 1\n",
        "model.CoverageConstraint = Constraint(model.I, rule=coverage_rule)\n",
        "\n",
        "# Restricted of the number of facilities\n",
        "def facility_count_rule(model):\n",
        "    return sum(penalty[j] * model.x[j] for j in model.J) == model.p\n",
        "model.FacilityConstraint = Constraint(rule=facility_count_rule)\n",
        "\n",
        "# Objective function: minimize the total weighted coverage\n",
        "def obj_rule(model):\n",
        "    return sum(model.w[i] * model.y[i] for i in model.I)\n",
        "model.Obj = Objective(rule=obj_rule, sense=minimize)\n",
        "\n",
        "# ---------------\n",
        "# Model solution\n",
        "# ---------------\n",
        "solver = SolverFactory('glpk')\n",
        "solver.solve(model)\n",
        "\n",
        "print(\"\\nVariables x_j:\")\n",
        "for j in model.J:\n",
        "    print(f\"x[{j}] = {model.x[j].value}\")\n",
        "\n",
        "print(\"\\nVariables y_i:\")\n",
        "for i in model.I:\n",
        "    print(f\"y[{i}] = {model.y[i].value}\")\n",
        "\n",
        "print(\"\\nCobertura total =\", model.Obj())"
      ],
      "metadata": {
        "colab": {
          "base_uri": "https://localhost:8080/"
        },
        "id": "mwlJEImr2ouh",
        "outputId": "7d1ecad7-2e39-4493-873e-8cdaaa3ef69e"
      },
      "execution_count": 8,
      "outputs": [
        {
          "output_type": "stream",
          "name": "stdout",
          "text": [
            "\n",
            "Variables x_j:\n",
            "x[1] = 1.0\n",
            "x[2] = 0.0\n",
            "x[3] = 0.0\n",
            "\n",
            "Variables y_i:\n",
            "y[1] = 0.0\n",
            "y[2] = 0.0\n",
            "y[3] = 1.0\n",
            "y[4] = 1.0\n",
            "y[5] = 0.0\n",
            "\n",
            "Cobertura total = 140.0\n"
          ]
        }
      ]
    },
    {
      "cell_type": "code",
      "source": [],
      "metadata": {
        "id": "GnstoUCz53Lk"
      },
      "execution_count": null,
      "outputs": []
    }
  ],
  "metadata": {
    "colab": {
      "provenance": [],
      "include_colab_link": true
    },
    "kernelspec": {
      "display_name": "Python 3",
      "name": "python3"
    }
  },
  "nbformat": 4,
  "nbformat_minor": 0
}